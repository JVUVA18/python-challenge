{
 "cells": [
  {
   "cell_type": "code",
   "execution_count": 14,
   "id": "98cfba99",
   "metadata": {},
   "outputs": [],
   "source": [
    "# dependencies\n",
    "import csv\n",
    "from pathlib import Path"
   ]
  },
  {
   "cell_type": "code",
   "execution_count": 15,
   "id": "05e7c8f6",
   "metadata": {},
   "outputs": [],
   "source": [
    "# import budget data from csv and create a path to the budget_analysis.txt\n",
    "budget_data = Path(\"Resources/budget_data.csv\")\n",
    "final_analysis = Path(\"analysis/budget_analysis.txt\")"
   ]
  },
  {
   "cell_type": "code",
   "execution_count": 16,
   "id": "3d68fabb",
   "metadata": {},
   "outputs": [],
   "source": [
    "# set up variables for months, total income, previous values(for linear calculation purposes), changes, and dates\n",
    "months = 0\n",
    "total = 0\n",
    "prev_value = None\n",
    "changes = []\n",
    "dates = []"
   ]
  },
  {
   "cell_type": "code",
   "execution_count": 21,
   "id": "dc4a6f3a",
   "metadata": {},
   "outputs": [],
   "source": [
    "# read the csv file with DictReader\n",
    "with open(budget_data, \"r\") as csvfile:\n",
    "    reader = csv.DictReader(csvfile)\n",
    "    for row in reader:\n",
    "        dates.append(row[\"Date\"])\n",
    "        if prev_value is not None:\n",
    "            change = int(row[\"Profit/Losses\"]) - prev_value\n",
    "            changes.append(change)\n",
    "        prev_value = int(row[\"Profit/Losses\"])\n",
    "        total += prev_value\n",
    "        months += 1"
   ]
  },
  {
   "cell_type": "code",
   "execution_count": 22,
   "id": "caac7e1e",
   "metadata": {},
   "outputs": [],
   "source": [
    "# calculate the average change\n",
    "avg_change = sum(changes) / len(changes)\n",
    "\n",
    "#create instances where you can find the max and min changes, the amounts, and the dates they ocurred\n",
    "max_change = max(changes)\n",
    "max_index = changes.index(max_change)\n",
    "max_date = dates[max_index + 1]\n",
    "\n",
    "min_change = min(changes)\n",
    "min_index = changes.index(min_change)\n",
    "min_date = dates[min_index + 1]"
   ]
  },
  {
   "cell_type": "code",
   "execution_count": 24,
   "id": "60d0b675",
   "metadata": {},
   "outputs": [
    {
     "name": "stdout",
     "output_type": "stream",
     "text": [
      "Financial Analysis\n",
      "----------------------------\n",
      "Total Months: 258\n",
      "Total: 67692594\n",
      "Average Change: $-2748.8093385214006\n",
      "GreatestGreatest Increase in Profits: Aug-16 ($1862002)\n",
      "Greatest Decrease in Profits: Feb-14 ($-1825558)\n",
      "\n"
     ]
    }
   ],
   "source": [
    "#create the output with the proper formatting pulling info from variables using f strings\n",
    "bank_analysis = (\n",
    "    f\"Financial Analysis\\n\"\n",
    "    f\"----------------------------\\n\"\n",
    "    f\"Total Months: {months}\\n\"\n",
    "    f\"Total: {total}\\n\"\n",
    "    f\"Average Change: ${avg_change}\\n\"\n",
    "    f\"GreatestGreatest Increase in Profits: {max_date} (${max_change})\\n\"\n",
    "    f\"Greatest Decrease in Profits: {min_date} (${min_change})\\n\"\n",
    ")\n",
    "\n",
    "print(bank_analysis)"
   ]
  },
  {
   "cell_type": "code",
   "execution_count": 25,
   "id": "53a51f79",
   "metadata": {},
   "outputs": [],
   "source": [
    "with open(final_analysis,\"w\") as f:\n",
    "    f.write(bank_analysis)"
   ]
  },
  {
   "cell_type": "code",
   "execution_count": null,
   "id": "c274708f",
   "metadata": {},
   "outputs": [],
   "source": []
  }
 ],
 "metadata": {
  "kernelspec": {
   "display_name": "Python 3 (ipykernel)",
   "language": "python",
   "name": "python3"
  },
  "language_info": {
   "codemirror_mode": {
    "name": "ipython",
    "version": 3
   },
   "file_extension": ".py",
   "mimetype": "text/x-python",
   "name": "python",
   "nbconvert_exporter": "python",
   "pygments_lexer": "ipython3",
   "version": "3.9.13"
  }
 },
 "nbformat": 4,
 "nbformat_minor": 5
}
