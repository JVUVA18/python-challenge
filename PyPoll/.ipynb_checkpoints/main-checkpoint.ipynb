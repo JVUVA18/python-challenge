{
 "cells": [
  {
   "cell_type": "code",
   "execution_count": 36,
   "id": "a55697fd",
   "metadata": {},
   "outputs": [],
   "source": [
    "# dependencies\n",
    "from pathlib import Path\n",
    "import csv"
   ]
  },
  {
   "cell_type": "code",
   "execution_count": 37,
   "id": "da6695d7",
   "metadata": {},
   "outputs": [],
   "source": [
    "# import poll data from csv and create a path to the poll_analysis.txt\n",
    "election_data = Path(\"Resources/election_data.csv\")\n",
    "poll_analysis = Path(\"Analysis/poll_analysis.txt\")"
   ]
  },
  {
   "cell_type": "code",
   "execution_count": 38,
   "id": "aa44265f",
   "metadata": {},
   "outputs": [],
   "source": [
    "# create variables \n",
    "vote_count = 0\n",
    "candidate_votes = {}\n",
    "win_candidate = \"\"\n",
    "win_count = 0\n",
    "win_percentage = 0"
   ]
  },
  {
   "cell_type": "code",
   "execution_count": 39,
   "id": "b99995d3",
   "metadata": {},
   "outputs": [],
   "source": [
    "# read through the csv file\n",
    "with open(election_data) as polldatacsv:\n",
    "    csv_reader = csv.reader(polldatacsv, delimiter=\",\")\n",
    "    csv_header = next(csv_reader)\n",
    "    for row in csv_reader:\n",
    "        vote_count += 1\n",
    "        candidate = row[2]\n",
    "        \n",
    "        if candidate not in candidate_votes:\n",
    "            candidate_votes[candidate] = 0\n",
    "        candidate_votes[candidate] += 1"
   ]
  },
  {
   "cell_type": "code",
   "execution_count": 40,
   "id": "cde0f316",
   "metadata": {},
   "outputs": [
    {
     "name": "stdout",
     "output_type": "stream",
     "text": [
      "\n",
      "Election Results\n",
      "----------------------------\n",
      "Total Votes: 369711\n",
      "----------------------------\n",
      "\n"
     ]
    }
   ],
   "source": [
    "# print total number of votes/rows regardless of candidate selection\n",
    "election_result = (\n",
    "    f\"\\nElection Results\\n\"\n",
    "    f\"----------------------------\\n\"\n",
    "    f\"Total Votes: {vote_count:}\\n\"\n",
    "    f\"----------------------------\\n\"\n",
    ")\n",
    "\n",
    "print(election_result)"
   ]
  },
  {
   "cell_type": "code",
   "execution_count": 41,
   "id": "d8b44f32",
   "metadata": {},
   "outputs": [],
   "source": [
    "with open(poll_analysis, \"w\") as txt_file:\n",
    "    txt_file.write(election_result)"
   ]
  },
  {
   "cell_type": "code",
   "execution_count": 43,
   "id": "7ec6f843",
   "metadata": {},
   "outputs": [
    {
     "name": "stdout",
     "output_type": "stream",
     "text": [
      "Charles Casper Stockham: 23.049% (85213)\n",
      "\n",
      "Diana DeGette: 73.812% (272892)\n",
      "\n",
      "Raymon Anthony Doane: 3.139% (11606)\n",
      "\n"
     ]
    }
   ],
   "source": [
    "for candidate, votes in candidate_votes.items():\n",
    "    vote_percent = float(votes) / float(vote_count) * 100\n",
    "    candidate_result = f\"{candidate}: {vote_percent:.3f}% ({votes:})\\n\"\n",
    "    print(candidate_result)\n",
    "    with open(poll_analysis, \"a\") as txt_file:\n",
    "        txt_file.write(candidate_result)\n",
    "    if (votes > win_count) and (vote_percent > win_percentage):\n",
    "        win_candidate = candidate\n",
    "        win_count = votes\n",
    "        win_percentage = vote_percent"
   ]
  },
  {
   "cell_type": "code",
   "execution_count": 46,
   "id": "e46bb0d6",
   "metadata": {},
   "outputs": [
    {
     "name": "stdout",
     "output_type": "stream",
     "text": [
      "-------------------------------\n",
      "Winner: Diana DeGette\n",
      "--------------------------------\n",
      "\n"
     ]
    }
   ],
   "source": [
    "election_summary = (\n",
    "    f\"-------------------------------\\n\"\n",
    "    f\"Winner: {win_candidate}\\n\"\n",
    "    f\"--------------------------------\\n\"\n",
    ")\n",
    "\n",
    "print(election_summary)\n",
    "with open(poll_analysis, \"a\") as txt_file:\n",
    "    txt_file.write(election_summary)"
   ]
  },
  {
   "cell_type": "code",
   "execution_count": null,
   "id": "240a3ebf",
   "metadata": {},
   "outputs": [],
   "source": []
  }
 ],
 "metadata": {
  "kernelspec": {
   "display_name": "Python 3 (ipykernel)",
   "language": "python",
   "name": "python3"
  },
  "language_info": {
   "codemirror_mode": {
    "name": "ipython",
    "version": 3
   },
   "file_extension": ".py",
   "mimetype": "text/x-python",
   "name": "python",
   "nbconvert_exporter": "python",
   "pygments_lexer": "ipython3",
   "version": "3.9.13"
  }
 },
 "nbformat": 4,
 "nbformat_minor": 5
}
